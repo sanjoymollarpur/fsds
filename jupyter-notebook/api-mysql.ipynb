{
 "cells": [
  {
   "cell_type": "code",
   "execution_count": 42,
   "id": "d06ecae0",
   "metadata": {},
   "outputs": [],
   "source": [
    "import mysql.connector as connection"
   ]
  },
  {
   "cell_type": "code",
   "execution_count": 43,
   "id": "6ccf3b95",
   "metadata": {},
   "outputs": [],
   "source": [
    "conn = connection.connect(host=\"localhost\",user=\"root\",use_pure=True)"
   ]
  },
  {
   "cell_type": "code",
   "execution_count": 44,
   "id": "521c7871",
   "metadata": {},
   "outputs": [],
   "source": [
    "cur = conn.cursor()"
   ]
  },
  {
   "cell_type": "code",
   "execution_count": 45,
   "id": "ac97580f",
   "metadata": {},
   "outputs": [],
   "source": [
    "# cur.execute(\"create database a\")"
   ]
  },
  {
   "cell_type": "code",
   "execution_count": 46,
   "id": "99b564fa",
   "metadata": {},
   "outputs": [
    {
     "ename": "InterfaceError",
     "evalue": "No result set to fetch from",
     "output_type": "error",
     "traceback": [
      "\u001b[0;31m---------------------------------------------------------------------------\u001b[0m",
      "\u001b[0;31mInterfaceError\u001b[0m                            Traceback (most recent call last)",
      "Input \u001b[0;32mIn [46]\u001b[0m, in \u001b[0;36m<cell line: 1>\u001b[0;34m()\u001b[0m\n\u001b[0;32m----> 1\u001b[0m res \u001b[38;5;241m=\u001b[39m \u001b[43mcur\u001b[49m\u001b[38;5;241;43m.\u001b[39;49m\u001b[43mfetchall\u001b[49m\u001b[43m(\u001b[49m\u001b[43m)\u001b[49m\n",
      "File \u001b[0;32m~/.local/lib/python3.8/site-packages/mysql/connector/cursor.py:910\u001b[0m, in \u001b[0;36mMySQLCursor.fetchall\u001b[0;34m(self)\u001b[0m\n\u001b[1;32m    904\u001b[0m \u001b[38;5;28;01mdef\u001b[39;00m \u001b[38;5;21mfetchall\u001b[39m(\u001b[38;5;28mself\u001b[39m):\n\u001b[1;32m    905\u001b[0m     \u001b[38;5;124m\"\"\"Return all rows of a query result set.\u001b[39m\n\u001b[1;32m    906\u001b[0m \n\u001b[1;32m    907\u001b[0m \u001b[38;5;124m    Returns:\u001b[39m\n\u001b[1;32m    908\u001b[0m \u001b[38;5;124m        list: A list of tuples with all rows of a query result set.\u001b[39m\n\u001b[1;32m    909\u001b[0m \u001b[38;5;124m    \"\"\"\u001b[39m\n\u001b[0;32m--> 910\u001b[0m     \u001b[38;5;28;43mself\u001b[39;49m\u001b[38;5;241;43m.\u001b[39;49m\u001b[43m_check_executed\u001b[49m\u001b[43m(\u001b[49m\u001b[43m)\u001b[49m\n\u001b[1;32m    911\u001b[0m     \u001b[38;5;28;01mif\u001b[39;00m \u001b[38;5;129;01mnot\u001b[39;00m \u001b[38;5;28mself\u001b[39m\u001b[38;5;241m.\u001b[39m_have_unread_result():\n\u001b[1;32m    912\u001b[0m         \u001b[38;5;28;01mreturn\u001b[39;00m []\n",
      "File \u001b[0;32m~/.local/lib/python3.8/site-packages/mysql/connector/cursor.py:360\u001b[0m, in \u001b[0;36mMySQLCursor._check_executed\u001b[0;34m(self)\u001b[0m\n\u001b[1;32m    355\u001b[0m \u001b[38;5;124m\"\"\"Check if the statement has been executed.\u001b[39m\n\u001b[1;32m    356\u001b[0m \n\u001b[1;32m    357\u001b[0m \u001b[38;5;124mRaises an error if the statement has not been executed.\u001b[39m\n\u001b[1;32m    358\u001b[0m \u001b[38;5;124m\"\"\"\u001b[39m\n\u001b[1;32m    359\u001b[0m \u001b[38;5;28;01mif\u001b[39;00m \u001b[38;5;28mself\u001b[39m\u001b[38;5;241m.\u001b[39m_executed \u001b[38;5;129;01mis\u001b[39;00m \u001b[38;5;28;01mNone\u001b[39;00m:\n\u001b[0;32m--> 360\u001b[0m     \u001b[38;5;28;01mraise\u001b[39;00m InterfaceError(ERR_NO_RESULT_TO_FETCH)\n",
      "\u001b[0;31mInterfaceError\u001b[0m: No result set to fetch from"
     ]
    }
   ],
   "source": [
    "res = cur.fetchall()"
   ]
  },
  {
   "cell_type": "code",
   "execution_count": 47,
   "id": "ea2b2e1c",
   "metadata": {},
   "outputs": [],
   "source": [
    "for i in res :\n",
    "    print(i[0])"
   ]
  },
  {
   "cell_type": "code",
   "execution_count": 48,
   "id": "56abd5b1",
   "metadata": {},
   "outputs": [],
   "source": [
    "query = \"SHOW DATABASES\"\n",
    "cur.execute(query)"
   ]
  },
  {
   "cell_type": "code",
   "execution_count": 49,
   "id": "dfaebf3a",
   "metadata": {},
   "outputs": [
    {
     "name": "stdout",
     "output_type": "stream",
     "text": [
      "[('a',), ('information_schema',), ('mysql',), ('performance_schema',), ('student',), ('student1',), ('sudhanshu12345',), ('sys',), ('taskdb',)]\n"
     ]
    }
   ],
   "source": [
    "print(cur.fetchall())"
   ]
  },
  {
   "cell_type": "code",
   "execution_count": 54,
   "id": "711db87f",
   "metadata": {},
   "outputs": [],
   "source": [
    "mydb = connection.connect(host=\"localhost\", database = 'taskdb',user=\"root\",use_pure=True)\n"
   ]
  },
  {
   "cell_type": "code",
   "execution_count": 55,
   "id": "e59a4c0c",
   "metadata": {},
   "outputs": [],
   "source": [
    "cur = mydb.cursor()"
   ]
  },
  {
   "cell_type": "code",
   "execution_count": 56,
   "id": "3d4ce729",
   "metadata": {},
   "outputs": [],
   "source": [
    "cur.execute(\"select * from tasktable\")"
   ]
  },
  {
   "cell_type": "code",
   "execution_count": 57,
   "id": "290d2c86",
   "metadata": {},
   "outputs": [
    {
     "name": "stdout",
     "output_type": "stream",
     "text": [
      "('nizam', 6867)\n",
      "('sanjoy', 1234)\n"
     ]
    }
   ],
   "source": [
    "for i in cur.fetchall():\n",
    "    print(i)"
   ]
  },
  {
   "cell_type": "code",
   "execution_count": null,
   "id": "a3356df1",
   "metadata": {},
   "outputs": [],
   "source": []
  },
  {
   "cell_type": "code",
   "execution_count": null,
   "id": "daa06626",
   "metadata": {},
   "outputs": [],
   "source": []
  }
 ],
 "metadata": {
  "kernelspec": {
   "display_name": "Python 3 (ipykernel)",
   "language": "python",
   "name": "python3"
  },
  "language_info": {
   "codemirror_mode": {
    "name": "ipython",
    "version": 3
   },
   "file_extension": ".py",
   "mimetype": "text/x-python",
   "name": "python",
   "nbconvert_exporter": "python",
   "pygments_lexer": "ipython3",
   "version": "3.8.10"
  }
 },
 "nbformat": 4,
 "nbformat_minor": 5
}
